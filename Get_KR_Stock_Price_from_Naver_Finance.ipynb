{
  "nbformat": 4,
  "nbformat_minor": 0,
  "metadata": {
    "colab": {
      "name": "Get KR Stock Price from Naver Finance.ipynb",
      "provenance": [],
      "collapsed_sections": [],
      "authorship_tag": "ABX9TyPXrWqfUNnTg9WqNYCpvXQh",
      "include_colab_link": true
    },
    "kernelspec": {
      "name": "python3",
      "display_name": "Python 3"
    }
  },
  "cells": [
    {
      "cell_type": "markdown",
      "metadata": {
        "id": "view-in-github",
        "colab_type": "text"
      },
      "source": [
        "<a href=\"https://colab.research.google.com/github/Moojin-Bin/Get_KR_Stock_Price_from_Naver_Finance/blob/master/Get_KR_Stock_Price_from_Naver_Finance.ipynb\" target=\"_parent\"><img src=\"https://colab.research.google.com/assets/colab-badge.svg\" alt=\"Open In Colab\"/></a>"
      ]
    },
    {
      "cell_type": "markdown",
      "metadata": {
        "id": "Xs9_FevuDf7g",
        "colab_type": "text"
      },
      "source": [
        "Scrap adjusted Closing Price of Korean stocks from Naver Finance"
      ]
    },
    {
      "cell_type": "code",
      "metadata": {
        "id": "UKZgMpW0CzgH",
        "colab_type": "code",
        "colab": {}
      },
      "source": [
        "import pandas as pd\n",
        "import requests\n",
        "from bs4 import BeautifulSoup"
      ],
      "execution_count": 1,
      "outputs": []
    },
    {
      "cell_type": "code",
      "metadata": {
        "id": "A2SHK51yDW4w",
        "colab_type": "code",
        "colab": {}
      },
      "source": [
        "def get_data(company_ticker_symbol, lookback):\n",
        "    url_form = \"https://fchart.stock.naver.com/sise.nhn?symbol={company_ticker_symbol}&timeframe=day&count={lookback}&requestType=0\"\n",
        "    url = url_form.format(company_ticker_symbol = company_ticker_symbol, lookback = lookback)\n",
        "\n",
        "    response = requests.get(url)\n",
        "    bs_obj = BeautifulSoup(response.content, \"html.parser\")\n",
        "    bs_res = bs_obj.select('item')\n",
        "    informations = ['Date', 'Open' ,'High', 'Low', 'Close', 'Volume']\n",
        "    df = pd.DataFrame([], columns = informations, index = range(len(bs_res)))\n",
        "    \n",
        "    for i in range(len(bs_res)):\n",
        "        df.iloc[i] = str(bs_res[i]['data']).split('|')\n",
        "    \n",
        "    df['Date']= pd.to_datetime(df['Date'])\n",
        "    df.set_index('Date', inplace=True)\n",
        "    \n",
        "    return df"
      ],
      "execution_count": 2,
      "outputs": []
    },
    {
      "cell_type": "code",
      "metadata": {
        "id": "3E1PizRsJjRw",
        "colab_type": "code",
        "colab": {
          "base_uri": "https://localhost:8080/",
          "height": 431
        },
        "outputId": "0f5a5db5-0038-4486-86c9-fa8463c11cf8"
      },
      "source": [
        "# Samsung Electornics Example\n",
        "get_data('005930', 100)"
      ],
      "execution_count": 3,
      "outputs": [
        {
          "output_type": "execute_result",
          "data": {
            "text/html": [
              "<div>\n",
              "<style scoped>\n",
              "    .dataframe tbody tr th:only-of-type {\n",
              "        vertical-align: middle;\n",
              "    }\n",
              "\n",
              "    .dataframe tbody tr th {\n",
              "        vertical-align: top;\n",
              "    }\n",
              "\n",
              "    .dataframe thead th {\n",
              "        text-align: right;\n",
              "    }\n",
              "</style>\n",
              "<table border=\"1\" class=\"dataframe\">\n",
              "  <thead>\n",
              "    <tr style=\"text-align: right;\">\n",
              "      <th></th>\n",
              "      <th>Open</th>\n",
              "      <th>High</th>\n",
              "      <th>Low</th>\n",
              "      <th>Close</th>\n",
              "      <th>Volume</th>\n",
              "    </tr>\n",
              "    <tr>\n",
              "      <th>Date</th>\n",
              "      <th></th>\n",
              "      <th></th>\n",
              "      <th></th>\n",
              "      <th></th>\n",
              "      <th></th>\n",
              "    </tr>\n",
              "  </thead>\n",
              "  <tbody>\n",
              "    <tr>\n",
              "      <th>2020-02-11</th>\n",
              "      <td>59800</td>\n",
              "      <td>60700</td>\n",
              "      <td>59700</td>\n",
              "      <td>59900</td>\n",
              "      <td>11071231</td>\n",
              "    </tr>\n",
              "    <tr>\n",
              "      <th>2020-02-12</th>\n",
              "      <td>60300</td>\n",
              "      <td>60700</td>\n",
              "      <td>59700</td>\n",
              "      <td>60500</td>\n",
              "      <td>12904207</td>\n",
              "    </tr>\n",
              "    <tr>\n",
              "      <th>2020-02-13</th>\n",
              "      <td>61200</td>\n",
              "      <td>61600</td>\n",
              "      <td>60500</td>\n",
              "      <td>60700</td>\n",
              "      <td>18449775</td>\n",
              "    </tr>\n",
              "    <tr>\n",
              "      <th>2020-02-14</th>\n",
              "      <td>60900</td>\n",
              "      <td>61900</td>\n",
              "      <td>60200</td>\n",
              "      <td>61800</td>\n",
              "      <td>13276067</td>\n",
              "    </tr>\n",
              "    <tr>\n",
              "      <th>2020-02-17</th>\n",
              "      <td>61600</td>\n",
              "      <td>62000</td>\n",
              "      <td>61200</td>\n",
              "      <td>61500</td>\n",
              "      <td>8740596</td>\n",
              "    </tr>\n",
              "    <tr>\n",
              "      <th>...</th>\n",
              "      <td>...</td>\n",
              "      <td>...</td>\n",
              "      <td>...</td>\n",
              "      <td>...</td>\n",
              "      <td>...</td>\n",
              "    </tr>\n",
              "    <tr>\n",
              "      <th>2020-06-29</th>\n",
              "      <td>52500</td>\n",
              "      <td>53200</td>\n",
              "      <td>52000</td>\n",
              "      <td>52400</td>\n",
              "      <td>17776925</td>\n",
              "    </tr>\n",
              "    <tr>\n",
              "      <th>2020-06-30</th>\n",
              "      <td>53900</td>\n",
              "      <td>53900</td>\n",
              "      <td>52800</td>\n",
              "      <td>52800</td>\n",
              "      <td>21157172</td>\n",
              "    </tr>\n",
              "    <tr>\n",
              "      <th>2020-07-01</th>\n",
              "      <td>53400</td>\n",
              "      <td>53600</td>\n",
              "      <td>52400</td>\n",
              "      <td>52600</td>\n",
              "      <td>16706143</td>\n",
              "    </tr>\n",
              "    <tr>\n",
              "      <th>2020-07-02</th>\n",
              "      <td>52100</td>\n",
              "      <td>52900</td>\n",
              "      <td>52100</td>\n",
              "      <td>52900</td>\n",
              "      <td>14142583</td>\n",
              "    </tr>\n",
              "    <tr>\n",
              "      <th>2020-07-03</th>\n",
              "      <td>53000</td>\n",
              "      <td>53600</td>\n",
              "      <td>52700</td>\n",
              "      <td>53600</td>\n",
              "      <td>11822197</td>\n",
              "    </tr>\n",
              "  </tbody>\n",
              "</table>\n",
              "<p>100 rows × 5 columns</p>\n",
              "</div>"
            ],
            "text/plain": [
              "             Open   High    Low  Close    Volume\n",
              "Date                                            \n",
              "2020-02-11  59800  60700  59700  59900  11071231\n",
              "2020-02-12  60300  60700  59700  60500  12904207\n",
              "2020-02-13  61200  61600  60500  60700  18449775\n",
              "2020-02-14  60900  61900  60200  61800  13276067\n",
              "2020-02-17  61600  62000  61200  61500   8740596\n",
              "...           ...    ...    ...    ...       ...\n",
              "2020-06-29  52500  53200  52000  52400  17776925\n",
              "2020-06-30  53900  53900  52800  52800  21157172\n",
              "2020-07-01  53400  53600  52400  52600  16706143\n",
              "2020-07-02  52100  52900  52100  52900  14142583\n",
              "2020-07-03  53000  53600  52700  53600  11822197\n",
              "\n",
              "[100 rows x 5 columns]"
            ]
          },
          "metadata": {
            "tags": []
          },
          "execution_count": 3
        }
      ]
    },
    {
      "cell_type": "code",
      "metadata": {
        "id": "Jbil-8w5kdA6",
        "colab_type": "code",
        "colab": {}
      },
      "source": [
        ""
      ],
      "execution_count": null,
      "outputs": []
    }
  ]
}