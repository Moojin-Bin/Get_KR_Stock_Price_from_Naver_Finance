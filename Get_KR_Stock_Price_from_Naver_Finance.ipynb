{
  "nbformat": 4,
  "nbformat_minor": 0,
  "metadata": {
    "colab": {
      "name": "Get KR Stock Price from Naver Finance.ipynb",
      "provenance": [],
      "collapsed_sections": [],
      "authorship_tag": "ABX9TyOmpcRs75gltsgwcjwVVtwu",
      "include_colab_link": true
    },
    "kernelspec": {
      "name": "python3",
      "display_name": "Python 3"
    }
  },
  "cells": [
    {
      "cell_type": "markdown",
      "metadata": {
        "id": "view-in-github",
        "colab_type": "text"
      },
      "source": [
        "<a href=\"https://colab.research.google.com/github/Moojin-Bin/Get_KR_Stock_Price_from_Naver_Finance/blob/master/Get_KR_Stock_Price_from_Naver_Finance.ipynb\" target=\"_parent\"><img src=\"https://colab.research.google.com/assets/colab-badge.svg\" alt=\"Open In Colab\"/></a>"
      ]
    },
    {
      "cell_type": "markdown",
      "metadata": {
        "id": "Xs9_FevuDf7g",
        "colab_type": "text"
      },
      "source": [
        "Scrap adjusted Closing Price of Korean stocks from Naver Finance"
      ]
    },
    {
      "cell_type": "code",
      "metadata": {
        "id": "UKZgMpW0CzgH",
        "colab_type": "code",
        "colab": {}
      },
      "source": [
        "import pandas as pd\n",
        "import requests\n",
        "from bs4 import BeautifulSoup"
      ],
      "execution_count": 2,
      "outputs": []
    },
    {
      "cell_type": "code",
      "metadata": {
        "id": "A2SHK51yDW4w",
        "colab_type": "code",
        "colab": {}
      },
      "source": [
        "def get_data(company_code, lookback):\n",
        "    url_form = \"https://fchart.stock.naver.com/sise.nhn?symbol={company_code}&timeframe=day&count={lookback}&requestType=0\"\n",
        "    url = url_form.format(company_code = company_code, lookback = lookback)\n",
        "\n",
        "    response = requests.get(url)\n",
        "    bs_obj = BeautifulSoup(response.content, \"html.parser\")\n",
        "    bs_res = bs_obj.select('item')\n",
        "    informations = ['Date', 'Open' ,'High', 'Low', 'Close', 'Volume']\n",
        "    df = pd.DataFrame([], columns = informations, index = range(len(bs_res)))\n",
        "    \n",
        "    for i in range(len(bs_res)):\n",
        "        df.iloc[i] = str(bs_res[i]['data']).split('|')\n",
        "    \n",
        "    df['Date']= pd.to_datetime(df['Date'])\n",
        "    df.set_index('Date', inplace=True)\n",
        "    \n",
        "    return df"
      ],
      "execution_count": 6,
      "outputs": []
    },
    {
      "cell_type": "code",
      "metadata": {
        "id": "3E1PizRsJjRw",
        "colab_type": "code",
        "colab": {}
      },
      "source": [
        ""
      ],
      "execution_count": null,
      "outputs": []
    }
  ]
}